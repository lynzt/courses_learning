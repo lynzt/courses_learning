{
 "cells": [
  {
   "cell_type": "code",
   "execution_count": null,
   "metadata": {},
   "outputs": [],
   "source": [
    "import tflearn\n",
    "from tflearn.data_utils import to_categorical, pad_sequences\n",
    "from tflearn.datasets import imdb\n",
    "\n",
    "\n",
    "# data from: http://www.iro.umontreal.ca/~lisa/deep/data/imdb.pkl\n",
    "train, test, _ = imdb.load_data(path='imdb.pkl', n_words= 10000, valid_portion=0.1)\n",
    "\n",
    "trainX, trainY = train\n",
    "testX, trainY = test\n",
    "\n",
    "\n",
    "temp = train[:10]\n",
    "print (temp)\n",
    "\n",
    "# data preprocessing\n",
    "trainX = pad_sequences(trainX, maxlen=100, value=0.)\n",
    "testX = pad_sequences(testX, maxlen=100, value=0.)\n",
    "\n",
    "# convert labels to binary vectors\n",
    "trainY = to_categorical(trainY, nb_classes=2)\n",
    "testY = to_categorical(testY, nb_classes=2)\n",
    "\n",
    "#nn building\n",
    "# inputs - give shape... batch size, length (100 because maxlen = 100)\n",
    "net = tflearn.input_data([None, 100])\n",
    "# (input_dim = 10000 => n_words above) , output_dim => # of resultant embeddings\n",
    "net = tflearn.embedding(net, input_dim=10000, output_dim=128)\n",
    "# dropout: prevent over fitting by turning off random pathways in network\n",
    "net = tflearn.lstm(net, 128, dropout=.8)\n",
    "net = tflearn.fully_connected(net, 2, activation='softmax')\n",
    "net = tflearn.regression(net, optimizer='adam', learning_rate='0.0001', loss='categorical_crossentropy')\n",
    "\n",
    "# train\n",
    "# (init deep nn)\n",
    "model = tflearn.DNN(net, tensorboard_verbose=0)\n",
    "# start training process for training and validation data. show metric=True to see log of accuracy during trainingdddddddddd\n",
    "model.fit(trainX, trainY, validation_set(testX, testY), show_metric=True, batch_size=32)\n"
   ]
  },
  {
   "cell_type": "code",
   "execution_count": null,
   "metadata": {},
   "outputs": [],
   "source": []
  },
  {
   "cell_type": "code",
   "execution_count": null,
   "metadata": {},
   "outputs": [],
   "source": []
  }
 ],
 "metadata": {
  "kernelspec": {
   "display_name": "Python 3",
   "language": "python",
   "name": "python3"
  },
  "language_info": {
   "codemirror_mode": {
    "name": "ipython",
    "version": 3
   },
   "file_extension": ".py",
   "mimetype": "text/x-python",
   "name": "python",
   "nbconvert_exporter": "python",
   "pygments_lexer": "ipython3",
   "version": "3.6.3"
  }
 },
 "nbformat": 4,
 "nbformat_minor": 2
}
